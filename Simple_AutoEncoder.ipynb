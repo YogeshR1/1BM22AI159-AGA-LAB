{
  "nbformat": 4,
  "nbformat_minor": 0,
  "metadata": {
    "colab": {
      "provenance": []
    },
    "kernelspec": {
      "name": "python3",
      "display_name": "Python 3"
    },
    "language_info": {
      "name": "python"
    }
  },
  "cells": [
    {
      "cell_type": "code",
      "execution_count": null,
      "metadata": {
        "colab": {
          "base_uri": "https://localhost:8080/"
        },
        "id": "wLaYtMViuhQ8",
        "outputId": "9819cf12-25a8-4c8e-b647-9cfac2e5a967"
      },
      "outputs": [
        {
          "output_type": "stream",
          "name": "stdout",
          "text": [
            "Epoch 1/10\n",
            "\u001b[1m4/4\u001b[0m \u001b[32m━━━━━━━━━━━━━━━━━━━━\u001b[0m\u001b[37m\u001b[0m \u001b[1m1s\u001b[0m 14ms/step - loss: 0.0884 \n",
            "Epoch 2/10\n",
            "\u001b[1m4/4\u001b[0m \u001b[32m━━━━━━━━━━━━━━━━━━━━\u001b[0m\u001b[37m\u001b[0m \u001b[1m0s\u001b[0m 10ms/step - loss: 0.0873\n",
            "Epoch 3/10\n",
            "\u001b[1m4/4\u001b[0m \u001b[32m━━━━━━━━━━━━━━━━━━━━\u001b[0m\u001b[37m\u001b[0m \u001b[1m0s\u001b[0m 9ms/step - loss: 0.0880 \n",
            "Epoch 4/10\n",
            "\u001b[1m4/4\u001b[0m \u001b[32m━━━━━━━━━━━━━━━━━━━━\u001b[0m\u001b[37m\u001b[0m \u001b[1m0s\u001b[0m 10ms/step - loss: 0.0868\n",
            "Epoch 5/10\n",
            "\u001b[1m4/4\u001b[0m \u001b[32m━━━━━━━━━━━━━━━━━━━━\u001b[0m\u001b[37m\u001b[0m \u001b[1m0s\u001b[0m 9ms/step - loss: 0.0883 \n",
            "Epoch 6/10\n",
            "\u001b[1m4/4\u001b[0m \u001b[32m━━━━━━━━━━━━━━━━━━━━\u001b[0m\u001b[37m\u001b[0m \u001b[1m0s\u001b[0m 9ms/step - loss: 0.0860 \n",
            "Epoch 7/10\n",
            "\u001b[1m4/4\u001b[0m \u001b[32m━━━━━━━━━━━━━━━━━━━━\u001b[0m\u001b[37m\u001b[0m \u001b[1m0s\u001b[0m 9ms/step - loss: 0.0839 \n",
            "Epoch 8/10\n",
            "\u001b[1m4/4\u001b[0m \u001b[32m━━━━━━━━━━━━━━━━━━━━\u001b[0m\u001b[37m\u001b[0m \u001b[1m0s\u001b[0m 8ms/step - loss: 0.0848 \n",
            "Epoch 9/10\n",
            "\u001b[1m4/4\u001b[0m \u001b[32m━━━━━━━━━━━━━━━━━━━━\u001b[0m\u001b[37m\u001b[0m \u001b[1m0s\u001b[0m 8ms/step - loss: 0.0842 \n",
            "Epoch 10/10\n",
            "\u001b[1m4/4\u001b[0m \u001b[32m━━━━━━━━━━━━━━━━━━━━\u001b[0m\u001b[37m\u001b[0m \u001b[1m0s\u001b[0m 9ms/step - loss: 0.0821 \n",
            "\u001b[1m1/1\u001b[0m \u001b[32m━━━━━━━━━━━━━━━━━━━━\u001b[0m\u001b[37m\u001b[0m \u001b[1m0s\u001b[0m 54ms/step\n",
            "\u001b[1m1/1\u001b[0m \u001b[32m━━━━━━━━━━━━━━━━━━━━\u001b[0m\u001b[37m\u001b[0m \u001b[1m0s\u001b[0m 48ms/step\n",
            "Encoded Data shape: (3, 10)\n",
            "Decoded Data shape: (3, 10)\n",
            "first 3 encoded samples:\n",
            " [[0.         1.0303267  0.         0.4802924  0.         0.\n",
            "  0.5967892  0.         0.2599231  0.3277893 ]\n",
            " [0.56632894 0.79076135 0.         0.69500846 0.         0.\n",
            "  0.25907168 0.         0.         0.08701727]\n",
            " [0.         0.8669311  0.         1.1540847  0.         0.\n",
            "  1.0902703  0.         0.         0.        ]]\n",
            "first 3 decoded samples:\n",
            " [[0.49377754 0.5947095  0.53984034 0.51431054 0.36373326 0.39423332\n",
            "  0.41140687 0.5277305  0.5242418  0.442345  ]\n",
            " [0.51798105 0.61962456 0.50316596 0.453988   0.33476233 0.42836583\n",
            "  0.43097326 0.4156365  0.45628074 0.4977203 ]\n",
            " [0.39969707 0.6785381  0.59204817 0.39991605 0.39561686 0.4267103\n",
            "  0.3849434  0.37672803 0.5769304  0.5519453 ]]\n"
          ]
        }
      ],
      "source": [
        "#SIMPLE AUTOENCODER\n",
        "import tensorflow as tf\n",
        "from tensorflow import keras\n",
        "from tensorflow.keras import layers\n",
        "\n",
        "# autoencoder model\n",
        "def create_autoencoder(input_dim, encoding_dim):\n",
        "  input_layer = keras.Input(shape=(input_dim,))\n",
        "  encoded = layers.Dense(encoding_dim, activation='relu')(input_layer)\n",
        "  decoded = layers.Dense(input_dim, activation='sigmoid')(encoded)\n",
        "  autoencoder = keras.Model(input_layer, decoded)\n",
        "\n",
        "  # Encoder\n",
        "  encoder = keras.Model(input_layer, encoded)\n",
        "\n",
        "  # Decoder\n",
        "  encoded_input = keras.Input(shape=(encoding_dim,))\n",
        "  decoder_layer = autoencoder.layers[-1]\n",
        "  decoder = keras.Model(encoded_input, decoder_layer(encoded_input))\n",
        "  return autoencoder, encoder, decoder\n",
        "\n",
        "input_dim = 10\n",
        "encoding_dim = 10\n",
        "\n",
        "autoencoder, encoder, decoder = create_autoencoder(input_dim, encoding_dim)\n",
        "autoencoder.compile(optimizer='adam', loss='mse')\n",
        "\n",
        "\n",
        "import numpy as np\n",
        "data = np.random.rand(100, input_dim)#generating data\n",
        "\n",
        "# Training\n",
        "autoencoder.fit(data, data, epochs=10, batch_size=32, shuffle=True)\n",
        "\n",
        "\n",
        "\n",
        "encoded_data = encoder.predict(data[:3])\n",
        "decoded_data = decoder.predict(encoded_data)\n",
        "print(\"Encoded Data shape:\",encoded_data.shape)\n",
        "print(\"Decoded Data shape:\",decoded_data.shape)\n",
        "print(\"first 3 encoded samples:\\n\",encoded_data)\n",
        "print(\"first 3 decoded samples:\\n\",decoded_data)"
      ]
    }
  ]
}