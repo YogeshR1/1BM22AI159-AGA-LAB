{
  "nbformat": 4,
  "nbformat_minor": 0,
  "metadata": {
    "colab": {
      "provenance": []
    },
    "kernelspec": {
      "name": "python3",
      "display_name": "Python 3"
    },
    "language_info": {
      "name": "python"
    }
  },
  "cells": [
    {
      "cell_type": "code",
      "execution_count": null,
      "metadata": {
        "colab": {
          "base_uri": "https://localhost:8080/"
        },
        "id": "f42shf2qx_jo",
        "outputId": "06f3bef3-abd8-4f96-e924-172790524b9f"
      },
      "outputs": [
        {
          "output_type": "stream",
          "name": "stdout",
          "text": [
            "Epoch 1/10\n",
            "\u001b[1m4/4\u001b[0m \u001b[32m━━━━━━━━━━━━━━━━━━━━\u001b[0m\u001b[37m\u001b[0m \u001b[1m2s\u001b[0m 25ms/step - loss: 0.1038\n",
            "Epoch 2/10\n",
            "\u001b[1m4/4\u001b[0m \u001b[32m━━━━━━━━━━━━━━━━━━━━\u001b[0m\u001b[37m\u001b[0m \u001b[1m0s\u001b[0m 44ms/step - loss: 0.1043 \n",
            "Epoch 3/10\n",
            "\u001b[1m4/4\u001b[0m \u001b[32m━━━━━━━━━━━━━━━━━━━━\u001b[0m\u001b[37m\u001b[0m \u001b[1m0s\u001b[0m 34ms/step - loss: 0.1038 \n",
            "Epoch 4/10\n",
            "\u001b[1m4/4\u001b[0m \u001b[32m━━━━━━━━━━━━━━━━━━━━\u001b[0m\u001b[37m\u001b[0m \u001b[1m0s\u001b[0m 15ms/step - loss: 0.1028 \n",
            "Epoch 5/10\n",
            "\u001b[1m4/4\u001b[0m \u001b[32m━━━━━━━━━━━━━━━━━━━━\u001b[0m\u001b[37m\u001b[0m \u001b[1m0s\u001b[0m 38ms/step - loss: 0.1035 \n",
            "Epoch 6/10\n",
            "\u001b[1m4/4\u001b[0m \u001b[32m━━━━━━━━━━━━━━━━━━━━\u001b[0m\u001b[37m\u001b[0m \u001b[1m0s\u001b[0m 58ms/step - loss: 0.1014 \n",
            "Epoch 7/10\n",
            "\u001b[1m4/4\u001b[0m \u001b[32m━━━━━━━━━━━━━━━━━━━━\u001b[0m\u001b[37m\u001b[0m \u001b[1m0s\u001b[0m 44ms/step - loss: 0.1004 \n",
            "Epoch 8/10\n",
            "\u001b[1m4/4\u001b[0m \u001b[32m━━━━━━━━━━━━━━━━━━━━\u001b[0m\u001b[37m\u001b[0m \u001b[1m0s\u001b[0m 23ms/step - loss: 0.0989\n",
            "Epoch 9/10\n",
            "\u001b[1m4/4\u001b[0m \u001b[32m━━━━━━━━━━━━━━━━━━━━\u001b[0m\u001b[37m\u001b[0m \u001b[1m0s\u001b[0m 38ms/step - loss: 0.1003 \n",
            "Epoch 10/10\n",
            "\u001b[1m4/4\u001b[0m \u001b[32m━━━━━━━━━━━━━━━━━━━━\u001b[0m\u001b[37m\u001b[0m \u001b[1m0s\u001b[0m 39ms/step - loss: 0.0961\n",
            "\u001b[1m1/1\u001b[0m \u001b[32m━━━━━━━━━━━━━━━━━━━━\u001b[0m\u001b[37m\u001b[0m \u001b[1m0s\u001b[0m 120ms/step\n",
            "\u001b[1m1/1\u001b[0m \u001b[32m━━━━━━━━━━━━━━━━━━━━\u001b[0m\u001b[37m\u001b[0m \u001b[1m0s\u001b[0m 153ms/step\n",
            "Encoded Data shape: (3, 5)\n",
            "Decoded Data shape: (3, 10)\n",
            "first 3 encoded samples:\n",
            " [[0.         0.         0.8672282  0.63738316 1.6709672 ]\n",
            " [0.         0.07382837 0.01111377 1.2629071  1.7762297 ]\n",
            " [0.         0.         0.05763163 0.72391    0.63252115]]\n",
            "first 3 decoded samples:\n",
            " [[0.6237159  0.7062771  0.66424453 0.6535209  0.35726607 0.517309\n",
            "  0.3045793  0.50516665 0.5960993  0.6465562 ]\n",
            " [0.6680373  0.6505011  0.65444624 0.62267417 0.30702582 0.48359093\n",
            "  0.35772008 0.5735403  0.57438755 0.67123085]\n",
            " [0.57579625 0.5456331  0.5729279  0.5627126  0.42110503 0.52606237\n",
            "  0.46572864 0.49581054 0.5004456  0.59950244]]\n"
          ]
        }
      ],
      "source": [
        "#SIMPLE AUTOENCODER(UNDERCOMPLETE)\n",
        "import tensorflow as tf\n",
        "from tensorflow import keras\n",
        "from tensorflow.keras import layers\n",
        "\n",
        "# autoencoder model\n",
        "def create_autoencoder(input_dim, encoding_dim):\n",
        "  input_layer = keras.Input(shape=(input_dim,))\n",
        "  encoded = layers.Dense(encoding_dim, activation='relu')(input_layer)\n",
        "  decoded = layers.Dense(input_dim, activation='sigmoid')(encoded)\n",
        "  autoencoder = keras.Model(input_layer, decoded)\n",
        "\n",
        "  # Encoder\n",
        "  encoder = keras.Model(input_layer, encoded)\n",
        "\n",
        "  # Decoder\n",
        "  encoded_input = keras.Input(shape=(encoding_dim,))\n",
        "  decoder_layer = autoencoder.layers[-1]\n",
        "  decoder = keras.Model(encoded_input, decoder_layer(encoded_input))\n",
        "  return autoencoder, encoder, decoder\n",
        "\n",
        "input_dim = 10\n",
        "encoding_dim = 5\n",
        "\n",
        "autoencoder, encoder, decoder = create_autoencoder(input_dim, encoding_dim)\n",
        "autoencoder.compile(optimizer='adam', loss='mse')\n",
        "\n",
        "\n",
        "import numpy as np\n",
        "data = np.random.rand(100, input_dim)#generating data\n",
        "\n",
        "# Training\n",
        "autoencoder.fit(data, data, epochs=10, batch_size=32, shuffle=True)\n",
        "\n",
        "\n",
        "\n",
        "encoded_data = encoder.predict(data[:3])\n",
        "decoded_data = decoder.predict(encoded_data)\n",
        "print(\"Encoded Data shape:\",encoded_data.shape)\n",
        "print(\"Decoded Data shape:\",decoded_data.shape)\n",
        "print(\"first 3 encoded samples:\\n\",encoded_data)\n",
        "print(\"first 3 decoded samples:\\n\",decoded_data)"
      ]
    }
  ]
}