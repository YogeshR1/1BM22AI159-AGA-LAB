{
  "nbformat": 4,
  "nbformat_minor": 0,
  "metadata": {
    "colab": {
      "provenance": []
    },
    "kernelspec": {
      "name": "python3",
      "display_name": "Python 3"
    },
    "language_info": {
      "name": "python"
    }
  },
  "cells": [
    {
      "cell_type": "code",
      "execution_count": null,
      "metadata": {
        "colab": {
          "base_uri": "https://localhost:8080/"
        },
        "id": "d8-IK014yRJx",
        "outputId": "83f3077a-080f-4bcb-f57b-a170d2d49695"
      },
      "outputs": [
        {
          "output_type": "stream",
          "name": "stdout",
          "text": [
            "Epoch 1/10\n",
            "\u001b[1m4/4\u001b[0m \u001b[32m━━━━━━━━━━━━━━━━━━━━\u001b[0m\u001b[37m\u001b[0m \u001b[1m2s\u001b[0m 21ms/step - loss: 0.0885\n",
            "Epoch 2/10\n",
            "\u001b[1m4/4\u001b[0m \u001b[32m━━━━━━━━━━━━━━━━━━━━\u001b[0m\u001b[37m\u001b[0m \u001b[1m0s\u001b[0m 12ms/step - loss: 0.0861 \n",
            "Epoch 3/10\n",
            "\u001b[1m4/4\u001b[0m \u001b[32m━━━━━━━━━━━━━━━━━━━━\u001b[0m\u001b[37m\u001b[0m \u001b[1m0s\u001b[0m 11ms/step - loss: 0.0853 \n",
            "Epoch 4/10\n",
            "\u001b[1m4/4\u001b[0m \u001b[32m━━━━━━━━━━━━━━━━━━━━\u001b[0m\u001b[37m\u001b[0m \u001b[1m0s\u001b[0m 11ms/step - loss: 0.0860 \n",
            "Epoch 5/10\n",
            "\u001b[1m4/4\u001b[0m \u001b[32m━━━━━━━━━━━━━━━━━━━━\u001b[0m\u001b[37m\u001b[0m \u001b[1m0s\u001b[0m 10ms/step - loss: 0.0837\n",
            "Epoch 6/10\n",
            "\u001b[1m4/4\u001b[0m \u001b[32m━━━━━━━━━━━━━━━━━━━━\u001b[0m\u001b[37m\u001b[0m \u001b[1m0s\u001b[0m 11ms/step - loss: 0.0813\n",
            "Epoch 7/10\n",
            "\u001b[1m4/4\u001b[0m \u001b[32m━━━━━━━━━━━━━━━━━━━━\u001b[0m\u001b[37m\u001b[0m \u001b[1m0s\u001b[0m 10ms/step - loss: 0.0827\n",
            "Epoch 8/10\n",
            "\u001b[1m4/4\u001b[0m \u001b[32m━━━━━━━━━━━━━━━━━━━━\u001b[0m\u001b[37m\u001b[0m \u001b[1m0s\u001b[0m 10ms/step - loss: 0.0830\n",
            "Epoch 9/10\n",
            "\u001b[1m4/4\u001b[0m \u001b[32m━━━━━━━━━━━━━━━━━━━━\u001b[0m\u001b[37m\u001b[0m \u001b[1m0s\u001b[0m 12ms/step - loss: 0.0808\n",
            "Epoch 10/10\n",
            "\u001b[1m4/4\u001b[0m \u001b[32m━━━━━━━━━━━━━━━━━━━━\u001b[0m\u001b[37m\u001b[0m \u001b[1m0s\u001b[0m 12ms/step - loss: 0.0825 \n",
            "\u001b[1m1/1\u001b[0m \u001b[32m━━━━━━━━━━━━━━━━━━━━\u001b[0m\u001b[37m\u001b[0m \u001b[1m0s\u001b[0m 73ms/step\n",
            "\u001b[1m1/1\u001b[0m \u001b[32m━━━━━━━━━━━━━━━━━━━━\u001b[0m\u001b[37m\u001b[0m \u001b[1m0s\u001b[0m 66ms/step\n",
            "Encoded Data shape: (3, 15)\n",
            "Decoded Data shape: (3, 10)\n",
            "first 3 encoded samples:\n",
            " [[0.42581326 0.         0.4670906  0.         0.24158263 1.0639253\n",
            "  0.18312477 0.         0.         0.         0.07329269 0.48501924\n",
            "  0.         0.         0.55869406]\n",
            " [0.16466676 0.         0.         0.         0.02323591 0.97381926\n",
            "  0.7566481  0.3797537  0.23794603 0.         0.10150307 0.28599262\n",
            "  0.         0.         0.50915617]\n",
            " [0.21445274 0.33319294 0.         0.         0.         0.11669458\n",
            "  0.3651634  0.08956369 0.16915025 0.         0.         0.\n",
            "  0.         0.         0.7443978 ]]\n",
            "first 3 decoded samples:\n",
            " [[0.51957446 0.55979514 0.5466354  0.4418187  0.51098937 0.518365\n",
            "  0.6053547  0.517951   0.36817056 0.45235455]\n",
            " [0.5158506  0.51472265 0.45608598 0.4289481  0.53887326 0.58280706\n",
            "  0.6132086  0.5859789  0.38999745 0.4776309 ]\n",
            " [0.46309417 0.44553417 0.4952826  0.4196451  0.47815698 0.49792606\n",
            "  0.5140187  0.51616627 0.45307535 0.45490387]]\n"
          ]
        }
      ],
      "source": [
        "#SIMPLE AUTOENCODER(OVERCOMPLETE)\n",
        "import tensorflow as tf\n",
        "from tensorflow import keras\n",
        "from tensorflow.keras import layers\n",
        "\n",
        "# autoencoder model\n",
        "def create_autoencoder(input_dim, encoding_dim):\n",
        "  input_layer = keras.Input(shape=(input_dim,))\n",
        "  encoded = layers.Dense(encoding_dim, activation='relu')(input_layer)\n",
        "  decoded = layers.Dense(input_dim, activation='sigmoid')(encoded)\n",
        "  autoencoder = keras.Model(input_layer, decoded)\n",
        "\n",
        "  # Encoder\n",
        "  encoder = keras.Model(input_layer, encoded)\n",
        "\n",
        "  # Decoder\n",
        "  encoded_input = keras.Input(shape=(encoding_dim,))\n",
        "  decoder_layer = autoencoder.layers[-1]\n",
        "  decoder = keras.Model(encoded_input, decoder_layer(encoded_input))\n",
        "  return autoencoder, encoder, decoder\n",
        "\n",
        "input_dim = 10\n",
        "encoding_dim = 15\n",
        "\n",
        "autoencoder, encoder, decoder = create_autoencoder(input_dim, encoding_dim)\n",
        "autoencoder.compile(optimizer='adam', loss='mse')\n",
        "\n",
        "\n",
        "import numpy as np\n",
        "data = np.random.rand(100, input_dim)#generating data\n",
        "\n",
        "# Training\n",
        "autoencoder.fit(data, data, epochs=10, batch_size=32, shuffle=True)\n",
        "\n",
        "\n",
        "encoded_data = encoder.predict(data[:3])\n",
        "decoded_data = decoder.predict(encoded_data)\n",
        "print(\"Encoded Data shape:\",encoded_data.shape)\n",
        "print(\"Decoded Data shape:\",decoded_data.shape)\n",
        "print(\"first 3 encoded samples:\\n\",encoded_data)\n",
        "print(\"first 3 decoded samples:\\n\",decoded_data)"
      ]
    }
  ]
}